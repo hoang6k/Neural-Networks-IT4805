{
  "nbformat": 4,
  "nbformat_minor": 0,
  "metadata": {
    "colab": {
      "name": "Bài tập lần 1 - Đào Minh Hoàng 20151505.ipynb",
      "provenance": [],
      "collapsed_sections": [],
      "machine_shape": "hm",
      "include_colab_link": true
    },
    "kernelspec": {
      "name": "python3",
      "display_name": "Python 3"
    }
  },
  "cells": [
    {
      "cell_type": "markdown",
      "metadata": {
        "id": "view-in-github",
        "colab_type": "text"
      },
      "source": [
        "<a href=\"https://colab.research.google.com/github/hoang6k/mang_noron_IT4805/blob/master/B%C3%A0i_t%E1%BA%ADp_l%E1%BA%A7n_1_%C4%90%C3%A0o_Minh_Ho%C3%A0ng_20151505.ipynb\" target=\"_parent\"><img src=\"https://colab.research.google.com/assets/colab-badge.svg\" alt=\"Open In Colab\"/></a>"
      ]
    },
    {
      "cell_type": "code",
      "metadata": {
        "id": "_3Gy60VbM_WM",
        "colab_type": "code",
        "colab": {}
      },
      "source": [
        "import matplotlib.pyplot as plt\n",
        "import numpy as np"
      ],
      "execution_count": 0,
      "outputs": []
    },
    {
      "cell_type": "markdown",
      "metadata": {
        "id": "URoGC3rihD3F",
        "colab_type": "text"
      },
      "source": [
        "**AND**"
      ]
    },
    {
      "cell_type": "code",
      "metadata": {
        "id": "tFJ3OzfrNPAu",
        "colab_type": "code",
        "colab": {}
      },
      "source": [
        "np.random.seed(0)\n",
        "\n",
        "X = np.asarray([[0, 0], [0, 1], [1, 0], [1, 1]], dtype=np.float)\n",
        "y = np.array([0, 0, 0, 1], dtype=np.float)\n",
        "bias = np.asarray([1, 1, 1, 1], dtype=np.float)\n",
        "X = np.concatenate((X, bias.reshape(4,1)), axis=1)\n",
        "y = y.reshape((4,1))"
      ],
      "execution_count": 0,
      "outputs": []
    },
    {
      "cell_type": "code",
      "metadata": {
        "id": "B2ZSg0XKOGMw",
        "colab_type": "code",
        "colab": {}
      },
      "source": [
        "def sigmoid(x):\n",
        "  return 1 / (1 + np.exp(-x))\n",
        "\n",
        "def loss(A, y, lam=0.001):\n",
        "  return -np.mean(y * np.log(A) + (1 - y) * np.log(1 - A))"
      ],
      "execution_count": 0,
      "outputs": []
    },
    {
      "cell_type": "code",
      "metadata": {
        "id": "sjHNAOPTOgBU",
        "colab_type": "code",
        "colab": {
          "base_uri": "https://localhost:8080/",
          "height": 1000
        },
        "outputId": "ed861ab2-e40a-4ffe-828d-f2d5db0b2f06"
      },
      "source": [
        "def logistic_regression(w_init, X, y, lr=0.1, epsilon=1e-4, nepoches=1000):\n",
        "  w = w_init\n",
        "  loss_hist = [loss(sigmoid(X.dot(w)), y)]\n",
        "  epoch = 0\n",
        "  while epoch < nepoches:\n",
        "    epoch += 1\n",
        "    if epoch % 100 == 0:\n",
        "      lr /= 10\n",
        "    Z = X.dot(w)\n",
        "    A = sigmoid(Z)\n",
        "    acc = np.mean((A > 0.5) == y)\n",
        "    loss_hist.append(loss(A, y))\n",
        "    if epoch > 1 and np.abs(loss_hist[-1] - loss_hist[-2]) < epsilon:\n",
        "      break\n",
        "    dZ = A - y\n",
        "    dW = X.T.dot(dZ) / y.shape[0]\n",
        "    w = w - lr * dW\n",
        "    print('Epoch {}: Loss={:.6f}, Accuracy={}%'.format(epoch, loss_hist[-1], 100 * acc))\n",
        "  return w, loss_hist\n",
        "\n",
        "\n",
        "w = np.random.rand(3, 1)\n",
        "lr = 0.025\n",
        "nepoches = 1000\n",
        "eps = 1e-3\n",
        "w, _loss = logistic_regression(w, X, y, lr, eps, nepoches)"
      ],
      "execution_count": 172,
      "outputs": [
        {
          "output_type": "stream",
          "text": [
            "Epoch 1: Loss=1.041117, Accuracy=25.0%\n",
            "Epoch 2: Loss=1.033221, Accuracy=25.0%\n",
            "Epoch 3: Loss=1.025420, Accuracy=25.0%\n",
            "Epoch 4: Loss=1.017712, Accuracy=25.0%\n",
            "Epoch 5: Loss=1.010097, Accuracy=25.0%\n",
            "Epoch 6: Loss=1.002576, Accuracy=25.0%\n",
            "Epoch 7: Loss=0.995148, Accuracy=25.0%\n",
            "Epoch 8: Loss=0.987812, Accuracy=25.0%\n",
            "Epoch 9: Loss=0.980569, Accuracy=25.0%\n",
            "Epoch 10: Loss=0.973417, Accuracy=25.0%\n",
            "Epoch 11: Loss=0.966357, Accuracy=25.0%\n",
            "Epoch 12: Loss=0.959387, Accuracy=25.0%\n",
            "Epoch 13: Loss=0.952508, Accuracy=25.0%\n",
            "Epoch 14: Loss=0.945719, Accuracy=25.0%\n",
            "Epoch 15: Loss=0.939019, Accuracy=25.0%\n",
            "Epoch 16: Loss=0.932408, Accuracy=25.0%\n",
            "Epoch 17: Loss=0.925885, Accuracy=25.0%\n",
            "Epoch 18: Loss=0.919450, Accuracy=25.0%\n",
            "Epoch 19: Loss=0.913102, Accuracy=25.0%\n",
            "Epoch 20: Loss=0.906841, Accuracy=25.0%\n",
            "Epoch 21: Loss=0.900666, Accuracy=25.0%\n",
            "Epoch 22: Loss=0.894576, Accuracy=25.0%\n",
            "Epoch 23: Loss=0.888570, Accuracy=25.0%\n",
            "Epoch 24: Loss=0.882649, Accuracy=25.0%\n",
            "Epoch 25: Loss=0.876811, Accuracy=25.0%\n",
            "Epoch 26: Loss=0.871055, Accuracy=25.0%\n",
            "Epoch 27: Loss=0.865381, Accuracy=25.0%\n",
            "Epoch 28: Loss=0.859789, Accuracy=25.0%\n",
            "Epoch 29: Loss=0.854277, Accuracy=25.0%\n",
            "Epoch 30: Loss=0.848844, Accuracy=25.0%\n",
            "Epoch 31: Loss=0.843490, Accuracy=25.0%\n",
            "Epoch 32: Loss=0.838215, Accuracy=25.0%\n",
            "Epoch 33: Loss=0.833017, Accuracy=25.0%\n",
            "Epoch 34: Loss=0.827895, Accuracy=25.0%\n",
            "Epoch 35: Loss=0.822849, Accuracy=25.0%\n",
            "Epoch 36: Loss=0.817878, Accuracy=25.0%\n",
            "Epoch 37: Loss=0.812982, Accuracy=25.0%\n",
            "Epoch 38: Loss=0.808158, Accuracy=25.0%\n",
            "Epoch 39: Loss=0.803407, Accuracy=25.0%\n",
            "Epoch 40: Loss=0.798728, Accuracy=25.0%\n",
            "Epoch 41: Loss=0.794120, Accuracy=25.0%\n",
            "Epoch 42: Loss=0.789582, Accuracy=25.0%\n",
            "Epoch 43: Loss=0.785112, Accuracy=25.0%\n",
            "Epoch 44: Loss=0.780712, Accuracy=25.0%\n",
            "Epoch 45: Loss=0.776378, Accuracy=25.0%\n",
            "Epoch 46: Loss=0.772112, Accuracy=25.0%\n",
            "Epoch 47: Loss=0.767911, Accuracy=25.0%\n",
            "Epoch 48: Loss=0.763775, Accuracy=25.0%\n",
            "Epoch 49: Loss=0.759703, Accuracy=25.0%\n",
            "Epoch 50: Loss=0.755695, Accuracy=25.0%\n",
            "Epoch 51: Loss=0.751748, Accuracy=25.0%\n",
            "Epoch 52: Loss=0.747864, Accuracy=25.0%\n",
            "Epoch 53: Loss=0.744040, Accuracy=25.0%\n",
            "Epoch 54: Loss=0.740276, Accuracy=25.0%\n",
            "Epoch 55: Loss=0.736571, Accuracy=25.0%\n",
            "Epoch 56: Loss=0.732924, Accuracy=25.0%\n",
            "Epoch 57: Loss=0.729335, Accuracy=50.0%\n",
            "Epoch 58: Loss=0.725802, Accuracy=50.0%\n",
            "Epoch 59: Loss=0.722325, Accuracy=50.0%\n",
            "Epoch 60: Loss=0.718903, Accuracy=50.0%\n",
            "Epoch 61: Loss=0.715534, Accuracy=50.0%\n",
            "Epoch 62: Loss=0.712220, Accuracy=50.0%\n",
            "Epoch 63: Loss=0.708957, Accuracy=50.0%\n",
            "Epoch 64: Loss=0.705746, Accuracy=50.0%\n",
            "Epoch 65: Loss=0.702586, Accuracy=50.0%\n",
            "Epoch 66: Loss=0.699476, Accuracy=50.0%\n",
            "Epoch 67: Loss=0.696416, Accuracy=50.0%\n",
            "Epoch 68: Loss=0.693404, Accuracy=50.0%\n",
            "Epoch 69: Loss=0.690439, Accuracy=50.0%\n",
            "Epoch 70: Loss=0.687522, Accuracy=50.0%\n",
            "Epoch 71: Loss=0.684651, Accuracy=50.0%\n",
            "Epoch 72: Loss=0.681825, Accuracy=50.0%\n",
            "Epoch 73: Loss=0.679044, Accuracy=50.0%\n",
            "Epoch 74: Loss=0.676307, Accuracy=50.0%\n",
            "Epoch 75: Loss=0.673614, Accuracy=50.0%\n",
            "Epoch 76: Loss=0.670962, Accuracy=50.0%\n",
            "Epoch 77: Loss=0.668353, Accuracy=50.0%\n",
            "Epoch 78: Loss=0.665785, Accuracy=50.0%\n",
            "Epoch 79: Loss=0.663257, Accuracy=50.0%\n",
            "Epoch 80: Loss=0.660769, Accuracy=50.0%\n",
            "Epoch 81: Loss=0.658320, Accuracy=50.0%\n",
            "Epoch 82: Loss=0.655910, Accuracy=50.0%\n",
            "Epoch 83: Loss=0.653537, Accuracy=50.0%\n",
            "Epoch 84: Loss=0.651201, Accuracy=50.0%\n",
            "Epoch 85: Loss=0.648902, Accuracy=50.0%\n",
            "Epoch 86: Loss=0.646639, Accuracy=50.0%\n",
            "Epoch 87: Loss=0.644411, Accuracy=50.0%\n",
            "Epoch 88: Loss=0.642217, Accuracy=50.0%\n",
            "Epoch 89: Loss=0.640057, Accuracy=50.0%\n",
            "Epoch 90: Loss=0.637931, Accuracy=50.0%\n",
            "Epoch 91: Loss=0.635837, Accuracy=50.0%\n",
            "Epoch 92: Loss=0.633776, Accuracy=50.0%\n",
            "Epoch 93: Loss=0.631746, Accuracy=50.0%\n",
            "Epoch 94: Loss=0.629748, Accuracy=50.0%\n",
            "Epoch 95: Loss=0.627779, Accuracy=50.0%\n",
            "Epoch 96: Loss=0.625841, Accuracy=50.0%\n",
            "Epoch 97: Loss=0.623932, Accuracy=50.0%\n",
            "Epoch 98: Loss=0.622052, Accuracy=50.0%\n",
            "Epoch 99: Loss=0.620201, Accuracy=75.0%\n",
            "Epoch 100: Loss=0.618377, Accuracy=75.0%\n"
          ],
          "name": "stdout"
        }
      ]
    },
    {
      "cell_type": "code",
      "metadata": {
        "id": "J1kxDVGWf-t-",
        "colab_type": "code",
        "colab": {
          "base_uri": "https://localhost:8080/",
          "height": 295
        },
        "outputId": "02c4d6b2-a804-458e-f761-834bd94c0686"
      },
      "source": [
        "plt.plot([i for i in range(len(_loss))], _loss, linestyle='-')\n",
        "plt.xlabel('epoches')\n",
        "plt.ylabel('loss')\n",
        "plt.title('Loss history')\n",
        "plt.show()"
      ],
      "execution_count": 173,
      "outputs": [
        {
          "output_type": "display_data",
          "data": {
            "image/png": "[encoded data removed]",
            "text/plain": [
              "<Figure size 432x288 with 1 Axes>"
            ]
          },
          "metadata": {
            "tags": []
          }
        }
      ]
    },
    {
      "cell_type": "markdown",
      "metadata": {
        "id": "RyPCpcusg6HG",
        "colab_type": "text"
      },
      "source": [
        "**CIFAR**"
      ]
    },
    {
      "cell_type": "code",
      "metadata": {
        "id": "Oftuv4G-g-Ca",
        "colab_type": "code",
        "colab": {}
      },
      "source": [
        "from keras.datasets import cifar10\n",
        "from sklearn.preprocessing import OneHotEncoder"
      ],
      "execution_count": 0,
      "outputs": []
    },
    {
      "cell_type": "code",
      "metadata": {
        "id": "846OSXGvhzmv",
        "colab_type": "code",
        "colab": {}
      },
      "source": [
        "(x_train, y_train), (x_test, y_test) = cifar10.load_data()\n",
        "\n",
        "# chose id and transform y\n",
        "label_id = 9\n",
        "train_id = np.where(y_train == label_id)[0]\n",
        "test_id = np.where(y_test == label_id)[0]\n",
        "y_train = np.zeros((y_train.shape[0], 1))\n",
        "y_train[train_id] = 1\n",
        "y_test = np.zeros((y_test.shape[0], 1))\n",
        "y_test[test_id] = 1\n",
        "\n",
        "# transform x\n",
        "mean_images = np.mean(x_train, axis=0)\n",
        "x_train = np.subtract(x_train, mean_images, dtype=np.float)\n",
        "x_test = np.subtract(x_test, mean_images, dtype=np.float)\n",
        "x_train = x_train.flatten().reshape((y_train.shape[0], -1)) / 255.0\n",
        "x_test = x_test.flatten().reshape((y_test.shape[0], -1)) / 255.0\n",
        "x_train = np.concatenate((x_train, np.ones(y_train.shape)), axis=1)\n",
        "x_test = np.concatenate((x_test, np.ones(y_test.shape)), axis=1)\n",
        "# print(x_train.shape)\n",
        "# print(x_test.shape)\n",
        "# print(y_train.shape)\n",
        "# print(y_test.shape)"
      ],
      "execution_count": 0,
      "outputs": []
    },
    {
      "cell_type": "code",
      "metadata": {
        "id": "Kh1uHIuIoyIO",
        "colab_type": "code",
        "colab": {
          "base_uri": "https://localhost:8080/",
          "height": 1000
        },
        "outputId": "c7e3564f-b7ac-4123-c514-5bf308e7db18"
      },
      "source": [
        "w = np.random.rand(x_train.shape[1], 1) * 1e-2\n",
        "lr = 0.1\n",
        "eps = 1e-5\n",
        "nepoches = 1000\n",
        "w, _loss = logistic_regression(w, x_train, y_train, lr, eps, nepoches)"
      ],
      "execution_count": 176,
      "outputs": [
        {
          "output_type": "stream",
          "text": [
            "Epoch 1: Loss=1.022525, Accuracy=52.978%\n",
            "Epoch 2: Loss=0.710437, Accuracy=54.337999999999994%\n",
            "Epoch 3: Loss=0.657387, Accuracy=69.536%\n",
            "Epoch 4: Loss=0.633896, Accuracy=72.416%\n",
            "Epoch 5: Loss=0.616835, Accuracy=75.384%\n",
            "Epoch 6: Loss=0.602102, Accuracy=76.668%\n",
            "Epoch 7: Loss=0.588615, Accuracy=78.28%\n",
            "Epoch 8: Loss=0.576008, Accuracy=79.708%\n",
            "Epoch 9: Loss=0.564119, Accuracy=80.996%\n",
            "Epoch 10: Loss=0.552859, Accuracy=82.254%\n",
            "Epoch 11: Loss=0.542167, Accuracy=83.32000000000001%\n",
            "Epoch 12: Loss=0.531997, Accuracy=84.294%\n",
            "Epoch 13: Loss=0.522314, Accuracy=85.11%\n",
            "Epoch 14: Loss=0.513085, Accuracy=85.79599999999999%\n",
            "Epoch 15: Loss=0.504282, Accuracy=86.412%\n",
            "Epoch 16: Loss=0.495880, Accuracy=86.924%\n",
            "Epoch 17: Loss=0.487856, Accuracy=87.364%\n",
            "Epoch 18: Loss=0.480188, Accuracy=87.802%\n",
            "Epoch 19: Loss=0.472857, Accuracy=88.164%\n",
            "Epoch 20: Loss=0.465845, Accuracy=88.474%\n",
            "Epoch 21: Loss=0.459133, Accuracy=88.79%\n",
            "Epoch 22: Loss=0.452707, Accuracy=88.988%\n",
            "Epoch 23: Loss=0.446550, Accuracy=89.252%\n",
            "Epoch 24: Loss=0.440650, Accuracy=89.39399999999999%\n",
            "Epoch 25: Loss=0.434992, Accuracy=89.55%\n",
            "Epoch 26: Loss=0.429565, Accuracy=89.714%\n",
            "Epoch 27: Loss=0.424356, Accuracy=89.858%\n",
            "Epoch 28: Loss=0.419355, Accuracy=89.962%\n",
            "Epoch 29: Loss=0.414551, Accuracy=90.026%\n",
            "Epoch 30: Loss=0.409935, Accuracy=90.098%\n",
            "Epoch 31: Loss=0.405497, Accuracy=90.154%\n",
            "Epoch 32: Loss=0.401229, Accuracy=90.184%\n",
            "Epoch 33: Loss=0.397121, Accuracy=90.214%\n",
            "Epoch 34: Loss=0.393168, Accuracy=90.254%\n",
            "Epoch 35: Loss=0.389361, Accuracy=90.25999999999999%\n",
            "Epoch 36: Loss=0.385694, Accuracy=90.288%\n",
            "Epoch 37: Loss=0.382159, Accuracy=90.27199999999999%\n",
            "Epoch 38: Loss=0.378752, Accuracy=90.312%\n",
            "Epoch 39: Loss=0.375465, Accuracy=90.33%\n",
            "Epoch 40: Loss=0.372294, Accuracy=90.328%\n",
            "Epoch 41: Loss=0.369233, Accuracy=90.336%\n",
            "Epoch 42: Loss=0.366278, Accuracy=90.326%\n",
            "Epoch 43: Loss=0.363423, Accuracy=90.334%\n",
            "Epoch 44: Loss=0.360665, Accuracy=90.342%\n",
            "Epoch 45: Loss=0.357999, Accuracy=90.336%\n",
            "Epoch 46: Loss=0.355421, Accuracy=90.352%\n",
            "Epoch 47: Loss=0.352927, Accuracy=90.346%\n",
            "Epoch 48: Loss=0.350514, Accuracy=90.358%\n",
            "Epoch 49: Loss=0.348179, Accuracy=90.362%\n",
            "Epoch 50: Loss=0.345917, Accuracy=90.364%\n",
            "Epoch 51: Loss=0.343727, Accuracy=90.36%\n",
            "Epoch 52: Loss=0.341605, Accuracy=90.34%\n",
            "Epoch 53: Loss=0.339548, Accuracy=90.34%\n",
            "Epoch 54: Loss=0.337554, Accuracy=90.354%\n",
            "Epoch 55: Loss=0.335620, Accuracy=90.338%\n",
            "Epoch 56: Loss=0.333744, Accuracy=90.34%\n",
            "Epoch 57: Loss=0.331923, Accuracy=90.35%\n",
            "Epoch 58: Loss=0.330156, Accuracy=90.338%\n",
            "Epoch 59: Loss=0.328441, Accuracy=90.346%\n",
            "Epoch 60: Loss=0.326774, Accuracy=90.33200000000001%\n",
            "Epoch 61: Loss=0.325156, Accuracy=90.338%\n",
            "Epoch 62: Loss=0.323583, Accuracy=90.334%\n",
            "Epoch 63: Loss=0.322054, Accuracy=90.318%\n",
            "Epoch 64: Loss=0.320567, Accuracy=90.324%\n",
            "Epoch 65: Loss=0.319121, Accuracy=90.32%\n",
            "Epoch 66: Loss=0.317715, Accuracy=90.312%\n",
            "Epoch 67: Loss=0.316346, Accuracy=90.31400000000001%\n",
            "Epoch 68: Loss=0.315014, Accuracy=90.304%\n",
            "Epoch 69: Loss=0.313718, Accuracy=90.298%\n",
            "Epoch 70: Loss=0.312455, Accuracy=90.288%\n",
            "Epoch 71: Loss=0.311225, Accuracy=90.29%\n",
            "Epoch 72: Loss=0.310027, Accuracy=90.29%\n",
            "Epoch 73: Loss=0.308860, Accuracy=90.292%\n",
            "Epoch 74: Loss=0.307722, Accuracy=90.29%\n",
            "Epoch 75: Loss=0.306613, Accuracy=90.292%\n",
            "Epoch 76: Loss=0.305531, Accuracy=90.288%\n",
            "Epoch 77: Loss=0.304476, Accuracy=90.294%\n",
            "Epoch 78: Loss=0.303447, Accuracy=90.288%\n",
            "Epoch 79: Loss=0.302443, Accuracy=90.288%\n",
            "Epoch 80: Loss=0.301462, Accuracy=90.282%\n",
            "Epoch 81: Loss=0.300506, Accuracy=90.27199999999999%\n",
            "Epoch 82: Loss=0.299572, Accuracy=90.28%\n",
            "Epoch 83: Loss=0.298660, Accuracy=90.286%\n",
            "Epoch 84: Loss=0.297769, Accuracy=90.286%\n",
            "Epoch 85: Loss=0.296898, Accuracy=90.28399999999999%\n",
            "Epoch 86: Loss=0.296048, Accuracy=90.282%\n",
            "Epoch 87: Loss=0.295217, Accuracy=90.29%\n",
            "Epoch 88: Loss=0.294404, Accuracy=90.294%\n",
            "Epoch 89: Loss=0.293610, Accuracy=90.294%\n",
            "Epoch 90: Loss=0.292834, Accuracy=90.286%\n",
            "Epoch 91: Loss=0.292074, Accuracy=90.292%\n",
            "Epoch 92: Loss=0.291331, Accuracy=90.294%\n",
            "Epoch 93: Loss=0.290604, Accuracy=90.294%\n",
            "Epoch 94: Loss=0.289893, Accuracy=90.294%\n",
            "Epoch 95: Loss=0.289197, Accuracy=90.302%\n",
            "Epoch 96: Loss=0.288516, Accuracy=90.304%\n",
            "Epoch 97: Loss=0.287848, Accuracy=90.304%\n",
            "Epoch 98: Loss=0.287195, Accuracy=90.30799999999999%\n",
            "Epoch 99: Loss=0.286556, Accuracy=90.306%\n",
            "Epoch 100: Loss=0.285929, Accuracy=90.306%\n",
            "Epoch 101: Loss=0.285868, Accuracy=90.306%\n",
            "Epoch 102: Loss=0.285806, Accuracy=90.306%\n",
            "Epoch 103: Loss=0.285745, Accuracy=90.306%\n",
            "Epoch 104: Loss=0.285683, Accuracy=90.306%\n",
            "Epoch 105: Loss=0.285622, Accuracy=90.306%\n",
            "Epoch 106: Loss=0.285561, Accuracy=90.30799999999999%\n",
            "Epoch 107: Loss=0.285500, Accuracy=90.30799999999999%\n",
            "Epoch 108: Loss=0.285439, Accuracy=90.30799999999999%\n",
            "Epoch 109: Loss=0.285379, Accuracy=90.30799999999999%\n",
            "Epoch 110: Loss=0.285318, Accuracy=90.31%\n",
            "Epoch 111: Loss=0.285258, Accuracy=90.31%\n",
            "Epoch 112: Loss=0.285198, Accuracy=90.31%\n",
            "Epoch 113: Loss=0.285137, Accuracy=90.31%\n",
            "Epoch 114: Loss=0.285077, Accuracy=90.31%\n",
            "Epoch 115: Loss=0.285017, Accuracy=90.31%\n",
            "Epoch 116: Loss=0.284958, Accuracy=90.31%\n",
            "Epoch 117: Loss=0.284898, Accuracy=90.30799999999999%\n",
            "Epoch 118: Loss=0.284838, Accuracy=90.30799999999999%\n",
            "Epoch 119: Loss=0.284779, Accuracy=90.30799999999999%\n",
            "Epoch 120: Loss=0.284720, Accuracy=90.30799999999999%\n",
            "Epoch 121: Loss=0.284660, Accuracy=90.30799999999999%\n",
            "Epoch 122: Loss=0.284601, Accuracy=90.30799999999999%\n",
            "Epoch 123: Loss=0.284542, Accuracy=90.30799999999999%\n",
            "Epoch 124: Loss=0.284484, Accuracy=90.30799999999999%\n",
            "Epoch 125: Loss=0.284425, Accuracy=90.30799999999999%\n",
            "Epoch 126: Loss=0.284366, Accuracy=90.30799999999999%\n",
            "Epoch 127: Loss=0.284308, Accuracy=90.30799999999999%\n",
            "Epoch 128: Loss=0.284249, Accuracy=90.30799999999999%\n",
            "Epoch 129: Loss=0.284191, Accuracy=90.312%\n",
            "Epoch 130: Loss=0.284133, Accuracy=90.312%\n",
            "Epoch 131: Loss=0.284075, Accuracy=90.312%\n",
            "Epoch 132: Loss=0.284017, Accuracy=90.312%\n",
            "Epoch 133: Loss=0.283959, Accuracy=90.312%\n",
            "Epoch 134: Loss=0.283901, Accuracy=90.312%\n",
            "Epoch 135: Loss=0.283844, Accuracy=90.312%\n",
            "Epoch 136: Loss=0.283786, Accuracy=90.312%\n",
            "Epoch 137: Loss=0.283729, Accuracy=90.312%\n",
            "Epoch 138: Loss=0.283672, Accuracy=90.31400000000001%\n",
            "Epoch 139: Loss=0.283615, Accuracy=90.31400000000001%\n",
            "Epoch 140: Loss=0.283558, Accuracy=90.31400000000001%\n",
            "Epoch 141: Loss=0.283501, Accuracy=90.316%\n",
            "Epoch 142: Loss=0.283444, Accuracy=90.316%\n",
            "Epoch 143: Loss=0.283388, Accuracy=90.316%\n",
            "Epoch 144: Loss=0.283331, Accuracy=90.316%\n",
            "Epoch 145: Loss=0.283275, Accuracy=90.316%\n",
            "Epoch 146: Loss=0.283218, Accuracy=90.318%\n",
            "Epoch 147: Loss=0.283162, Accuracy=90.318%\n",
            "Epoch 148: Loss=0.283106, Accuracy=90.316%\n",
            "Epoch 149: Loss=0.283050, Accuracy=90.316%\n",
            "Epoch 150: Loss=0.282994, Accuracy=90.316%\n",
            "Epoch 151: Loss=0.282938, Accuracy=90.316%\n",
            "Epoch 152: Loss=0.282883, Accuracy=90.316%\n",
            "Epoch 153: Loss=0.282827, Accuracy=90.316%\n",
            "Epoch 154: Loss=0.282772, Accuracy=90.316%\n",
            "Epoch 155: Loss=0.282716, Accuracy=90.316%\n",
            "Epoch 156: Loss=0.282661, Accuracy=90.316%\n",
            "Epoch 157: Loss=0.282606, Accuracy=90.316%\n",
            "Epoch 158: Loss=0.282551, Accuracy=90.316%\n",
            "Epoch 159: Loss=0.282496, Accuracy=90.316%\n",
            "Epoch 160: Loss=0.282441, Accuracy=90.316%\n",
            "Epoch 161: Loss=0.282387, Accuracy=90.316%\n",
            "Epoch 162: Loss=0.282332, Accuracy=90.316%\n",
            "Epoch 163: Loss=0.282278, Accuracy=90.316%\n",
            "Epoch 164: Loss=0.282223, Accuracy=90.316%\n",
            "Epoch 165: Loss=0.282169, Accuracy=90.316%\n",
            "Epoch 166: Loss=0.282115, Accuracy=90.316%\n",
            "Epoch 167: Loss=0.282061, Accuracy=90.316%\n",
            "Epoch 168: Loss=0.282007, Accuracy=90.316%\n",
            "Epoch 169: Loss=0.281953, Accuracy=90.316%\n",
            "Epoch 170: Loss=0.281899, Accuracy=90.316%\n",
            "Epoch 171: Loss=0.281846, Accuracy=90.31400000000001%\n",
            "Epoch 172: Loss=0.281792, Accuracy=90.31400000000001%\n",
            "Epoch 173: Loss=0.281739, Accuracy=90.312%\n",
            "Epoch 174: Loss=0.281685, Accuracy=90.31400000000001%\n",
            "Epoch 175: Loss=0.281632, Accuracy=90.31400000000001%\n",
            "Epoch 176: Loss=0.281579, Accuracy=90.31400000000001%\n",
            "Epoch 177: Loss=0.281526, Accuracy=90.31400000000001%\n",
            "Epoch 178: Loss=0.281473, Accuracy=90.31400000000001%\n",
            "Epoch 179: Loss=0.281420, Accuracy=90.316%\n",
            "Epoch 180: Loss=0.281368, Accuracy=90.316%\n",
            "Epoch 181: Loss=0.281315, Accuracy=90.316%\n",
            "Epoch 182: Loss=0.281263, Accuracy=90.316%\n",
            "Epoch 183: Loss=0.281210, Accuracy=90.316%\n",
            "Epoch 184: Loss=0.281158, Accuracy=90.316%\n",
            "Epoch 185: Loss=0.281106, Accuracy=90.316%\n",
            "Epoch 186: Loss=0.281054, Accuracy=90.316%\n",
            "Epoch 187: Loss=0.281002, Accuracy=90.316%\n",
            "Epoch 188: Loss=0.280950, Accuracy=90.316%\n",
            "Epoch 189: Loss=0.280898, Accuracy=90.316%\n",
            "Epoch 190: Loss=0.280846, Accuracy=90.316%\n",
            "Epoch 191: Loss=0.280795, Accuracy=90.316%\n",
            "Epoch 192: Loss=0.280743, Accuracy=90.316%\n",
            "Epoch 193: Loss=0.280692, Accuracy=90.316%\n",
            "Epoch 194: Loss=0.280640, Accuracy=90.318%\n",
            "Epoch 195: Loss=0.280589, Accuracy=90.316%\n",
            "Epoch 196: Loss=0.280538, Accuracy=90.316%\n",
            "Epoch 197: Loss=0.280487, Accuracy=90.316%\n",
            "Epoch 198: Loss=0.280436, Accuracy=90.316%\n",
            "Epoch 199: Loss=0.280385, Accuracy=90.316%\n",
            "Epoch 200: Loss=0.280335, Accuracy=90.316%\n"
          ],
          "name": "stdout"
        }
      ]
    },
    {
      "cell_type": "code",
      "metadata": {
        "id": "CPYFtTGmwWBs",
        "colab_type": "code",
        "colab": {
          "base_uri": "https://localhost:8080/",
          "height": 295
        },
        "outputId": "936bafb1-ae56-4385-db1a-5ff79180f8b5"
      },
      "source": [
        "plt.plot([i for i in range(len(_loss))], _loss, linestyle='-')\n",
        "plt.xlabel('epoches')\n",
        "plt.ylabel('loss')\n",
        "plt.title('Loss history')\n",
        "plt.show()"
      ],
      "execution_count": 178,
      "outputs": [
        {
          "output_type": "display_data",
          "data": {
            "image/png": "[encoded data removed]",
            "text/plain": [
              "<Figure size 432x288 with 1 Axes>"
            ]
          },
          "metadata": {
            "tags": []
          }
        }
      ]
    },
    {
      "cell_type": "code",
      "metadata": {
        "id": "Fgee74lw0PoD",
        "colab_type": "code",
        "colab": {
          "base_uri": "https://localhost:8080/",
          "height": 51
        },
        "outputId": "4ad78146-4311-44b7-ff9a-56ac11c50c61"
      },
      "source": [
        "ypred = x_test.dot(w) > 0\n",
        "acc = np.mean(ypred == y_test)\n",
        "print('Accuracy Test: %2.2f%%'%(acc*100))"
      ],
      "execution_count": 179,
      "outputs": [
        {
          "output_type": "stream",
          "text": [
            "Accuracy on test set: 90.23\n",
            "Accuracy Test: 90.23%\n"
          ],
          "name": "stdout"
        }
      ]
    }
  ]
}